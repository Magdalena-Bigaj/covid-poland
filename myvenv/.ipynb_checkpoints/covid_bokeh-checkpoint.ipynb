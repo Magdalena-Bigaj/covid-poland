{
 "cells": [
  {
   "cell_type": "code",
   "execution_count": 3,
   "metadata": {},
   "outputs": [
    {
     "name": "stdout",
     "output_type": "stream",
     "text": [
      "Requirement already satisfied: requests in d:\\programming\\covid_bokeh\\myvenv\\lib\\site-packages (2.25.0)\n",
      "Requirement already satisfied: urllib3<1.27,>=1.21.1 in d:\\programming\\covid_bokeh\\myvenv\\lib\\site-packages (from requests) (1.26.2)\n",
      "Requirement already satisfied: idna<3,>=2.5 in d:\\programming\\covid_bokeh\\myvenv\\lib\\site-packages (from requests) (2.10)\n",
      "Requirement already satisfied: chardet<4,>=3.0.2 in d:\\programming\\covid_bokeh\\myvenv\\lib\\site-packages (from requests) (3.0.4)\n",
      "Requirement already satisfied: certifi>=2017.4.17 in d:\\programming\\covid_bokeh\\myvenv\\lib\\site-packages (from requests) (2020.11.8)\n"
     ]
    },
    {
     "name": "stderr",
     "output_type": "stream",
     "text": [
      "WARNING: You are using pip version 20.2.1; however, version 20.2.4 is available.\n",
      "You should consider upgrading via the 'd:\\programming\\covid_bokeh\\myvenv\\scripts\\python.exe -m pip install --upgrade pip' command.\n",
      "WARNING: You are using pip version 20.2.1; however, version 20.2.4 is available.\n",
      "You should consider upgrading via the 'd:\\programming\\covid_bokeh\\myvenv\\scripts\\python.exe -m pip install --upgrade pip' command.\n"
     ]
    },
    {
     "name": "stdout",
     "output_type": "stream",
     "text": [
      "Requirement already satisfied: numpy==1.19.3 in d:\\programming\\covid_bokeh\\myvenv\\lib\\site-packages (1.19.3)\n",
      "<Response [200]>\n",
      "<class 'pandas.core.frame.DataFrame'>\n"
     ]
    }
   ],
   "source": [
    "!pip install requests\n",
    "\n",
    "!pip install numpy==1.19.3\n",
    "\n",
    "import requests\n",
    "import datetime as dt\n",
    "from datetime import timedelta\n",
    "import pandas as pd\n",
    "from bokeh.io import output_file\n",
    "from bokeh.plotting import figure, show\n",
    "from bokeh.io import output_file, output_notebook\n",
    "from bokeh.plotting import figure, show\n",
    "from bokeh.models import ColumnDataSource, Range1d, LinearAxis\n",
    "from bokeh.layouts import row, column, gridplot\n",
    "from bokeh.models.widgets import Tabs, Panel\n",
    "from bokeh.themes import built_in_themes\n",
    "from bokeh.io import curdoc\n",
    "from bokeh.embed import components\n",
    "from bokeh.resources import CDN\n",
    "\n",
    "r = requests.get(\"https://opendata.ecdc.europa.eu/covid19/casedistribution/csv\")\n",
    "raw_data= r.content\n",
    "\n",
    "print(r)\n",
    "\n",
    "csv_data= pd.read_csv(\"https://opendata.ecdc.europa.eu/covid19/casedistribution/csv\")\n",
    "print(type(csv_data))\n",
    "\n",
    "csv_data['dateRep'] = pd.to_datetime(csv_data['dateRep'],format='%d/%m/%Y')\n",
    "\n",
    "csv_data.sort_values('dateRep')\n",
    "\n",
    "csv_data_poland = csv_data.loc[csv_data['countriesAndTerritories'] == 'Poland']\n",
    "\n",
    "# output_notebook()\n",
    "# output_file(\"light_minimal.html\")\n",
    "curdoc().theme = 'light_minimal'\n",
    "p = figure(title='Covid.Poland', plot_width=800, plot_height=400, \n",
    "           y_range=(0, max(csv_data_poland['cases']+ 200)),\n",
    "           x_range= ((list(csv_data_poland['dateRep']))[-1], (list(csv_data_poland['dateRep']))[0]),\n",
    "           x_axis_label='time', x_axis_type='datetime')\n",
    "\n",
    "p.vbar(csv_data_poland['dateRep'], top= csv_data_poland['cases'], color= '#003049', width=timedelta(days=0.8), legend_label= 'cases')\n",
    "\n",
    "p.extra_y_ranges = {\"deaths\": Range1d(start=0, end=max(csv_data_poland['deaths']+ 200))}\n",
    "p.line(csv_data_poland['dateRep'], csv_data_poland['deaths'], y_range_name='deaths', color= '#d62828', legend_label= 'deaths')\n",
    "p.add_layout(LinearAxis(y_range_name=\"deaths\"), 'right')\n",
    "\n",
    "p.legend.location = 'top_left'\n",
    "script1, div1= components(p)\n",
    "cdn_js= CDN.js_files\n",
    "\n",
    "cdn_js[0]\n",
    "\n",
    "show(p)\n",
    "\n",
    "\n",
    "\n",
    "\n"
   ]
  },
  {
   "cell_type": "code",
   "execution_count": null,
   "metadata": {},
   "outputs": [],
   "source": [
    "count_cases=(csv_data_poland['cases'])\n",
    "count_cases"
   ]
  }
 ],
 "metadata": {
  "kernelspec": {
   "display_name": "Python 3",
   "language": "python",
   "name": "python3"
  },
  "language_info": {
   "codemirror_mode": {
    "name": "ipython",
    "version": 3
   },
   "file_extension": ".py",
   "mimetype": "text/x-python",
   "name": "python",
   "nbconvert_exporter": "python",
   "pygments_lexer": "ipython3",
   "version": "3.8.6"
  }
 },
 "nbformat": 4,
 "nbformat_minor": 4
}
